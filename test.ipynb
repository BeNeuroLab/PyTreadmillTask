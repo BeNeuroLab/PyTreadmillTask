{
 "metadata": {
  "language_info": {
   "codemirror_mode": {
    "name": "ipython",
    "version": 3
   },
   "file_extension": ".py",
   "mimetype": "text/x-python",
   "name": "python",
   "nbconvert_exporter": "python",
   "pygments_lexer": "ipython3",
   "version": "3.9.1-final"
  },
  "orig_nbformat": 2,
  "kernelspec": {
   "name": "python37764bitd2lconda47a1fb9a8d254308bae49d4e06cf34b5",
   "display_name": "Python 3.7.7 64-bit ('d2l': conda)",
   "language": "python"
  }
 },
 "nbformat": 4,
 "nbformat_minor": 2,
 "cells": [
  {
   "cell_type": "code",
   "execution_count": 22,
   "metadata": {},
   "outputs": [
    {
     "output_type": "execute_result",
     "data": {
      "text/plain": [
       "b'Y'"
      ]
     },
     "metadata": {},
     "execution_count": 22
    }
   ],
   "source": [
    "a=bytes([89])\n",
    "a"
   ]
  },
  {
   "cell_type": "code",
   "execution_count": 25,
   "metadata": {},
   "outputs": [
    {
     "output_type": "execute_result",
     "data": {
      "text/plain": [
       "'3032'"
      ]
     },
     "metadata": {},
     "execution_count": 25
    }
   ],
   "source": [
    "b=b'02'\n",
    "b."
   ]
  },
  {
   "cell_type": "code",
   "execution_count": 16,
   "metadata": {},
   "outputs": [
    {
     "output_type": "execute_result",
     "data": {
      "text/plain": [
       "'6b'"
      ]
     },
     "metadata": {},
     "execution_count": 16
    }
   ],
   "source": [
    "b.hex()"
   ]
  },
  {
   "cell_type": "code",
   "execution_count": 47,
   "metadata": {},
   "outputs": [
    {
     "output_type": "execute_result",
     "data": {
      "text/plain": [
       "b'02'"
      ]
     },
     "metadata": {},
     "execution_count": 47
    }
   ],
   "source": [
    "b'02'"
   ]
  },
  {
   "cell_type": "code",
   "execution_count": 43,
   "metadata": {},
   "outputs": [
    {
     "output_type": "stream",
     "text": [
      "\u001b[0;31mSignature:\u001b[0m \u001b[0ma\u001b[0m\u001b[0;34m.\u001b[0m\u001b[0mto_bytes\u001b[0m\u001b[0;34m(\u001b[0m\u001b[0mlength\u001b[0m\u001b[0;34m,\u001b[0m \u001b[0mbyteorder\u001b[0m\u001b[0;34m,\u001b[0m \u001b[0;34m*\u001b[0m\u001b[0;34m,\u001b[0m \u001b[0msigned\u001b[0m\u001b[0;34m=\u001b[0m\u001b[0;32mFalse\u001b[0m\u001b[0;34m)\u001b[0m\u001b[0;34m\u001b[0m\u001b[0;34m\u001b[0m\u001b[0m\n",
      "\u001b[0;31mDocstring:\u001b[0m\n",
      "Return an array of bytes representing an integer.\n",
      "\n",
      "length\n",
      "  Length of bytes object to use.  An OverflowError is raised if the\n",
      "  integer is not representable with the given number of bytes.\n",
      "byteorder\n",
      "  The byte order used to represent the integer.  If byteorder is 'big',\n",
      "  the most significant byte is at the beginning of the byte array.  If\n",
      "  byteorder is 'little', the most significant byte is at the end of the\n",
      "  byte array.  To request the native byte order of the host system, use\n",
      "  `sys.byteorder' as the byte order value.\n",
      "signed\n",
      "  Determines whether two's complement is used to represent the integer.\n",
      "  If signed is False and a negative integer is given, an OverflowError\n",
      "  is raised.\n",
      "\u001b[0;31mType:\u001b[0m      builtin_function_or_method\n"
     ],
     "name": "stdout"
    }
   ],
   "source": [
    "a=2\n",
    "\n",
    "a.to_bytes?"
   ]
  },
  {
   "cell_type": "code",
   "execution_count": 79,
   "metadata": {},
   "outputs": [],
   "source": [
    "a=int(128)\n",
    "b=int(255)\n",
    "\n",
    "aa=a.to_bytes(1,'big')\n",
    "bb=b.to_bytes(1,'big')"
   ]
  },
  {
   "cell_type": "code",
   "execution_count": 80,
   "metadata": {},
   "outputs": [],
   "source": [
    "q= aa+bb"
   ]
  },
  {
   "cell_type": "code",
   "execution_count": 81,
   "metadata": {},
   "outputs": [
    {
     "output_type": "execute_result",
     "data": {
      "text/plain": [
       "-32513"
      ]
     },
     "metadata": {},
     "execution_count": 81
    }
   ],
   "source": [
    "int.from_bytes(q,'big',signed=True)"
   ]
  },
  {
   "cell_type": "code",
   "execution_count": 1,
   "metadata": {},
   "outputs": [
    {
     "output_type": "execute_result",
     "data": {
      "text/plain": [
       "'test2red'"
      ]
     },
     "metadata": {},
     "execution_count": 1
    }
   ],
   "source": [
    "'test' + '2' + 'red'"
   ]
  },
  {
   "cell_type": "code",
   "execution_count": 37,
   "metadata": {},
   "outputs": [
    {
     "output_type": "execute_result",
     "data": {
      "text/plain": [
       "2"
      ]
     },
     "metadata": {},
     "execution_count": 37
    }
   ],
   "source": [
    "a = 2 .to_bytes(1, 'big')\n",
    "\n",
    "\n",
    "b = 0b10\n",
    "\n",
    "b"
   ]
  },
  {
   "cell_type": "code",
   "execution_count": null,
   "metadata": {},
   "outputs": [],
   "source": []
  }
 ]
}